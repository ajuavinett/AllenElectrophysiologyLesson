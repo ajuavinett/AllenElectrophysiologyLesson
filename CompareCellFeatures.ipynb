{
 "cells": [
  {
   "cell_type": "markdown",
   "metadata": {},
   "source": [
    "# Comparing the electrophysiological features of cells\n",
    "\n",
    "We've talked about various membrane properties like resistance and capacitance, but how do these actually play out in real cells, which are morphologically diverse?\n",
    "\n",
    "![](https://canvas.brown.edu/courses/851434/files/38768331/preview?verifier=D6ZNKahSL6e9e6xh4GMAfbbSJK6ynSYYQwmcKBo8)\n",
    "\n",
    "This notebook will load and plot a dataset with various features for mouse or human cells that were curated from the [Allen Cell Types](https://celltypes.brain-map.org/) database. By doing so, we'll be able to test our hypothesis about the relationship between different electrophysiological features of cells, such as their surface area, rheobase, time constant, and input resistance.\n",
    "<hr>"
   ]
  },
  {
   "cell_type": "markdown",
   "metadata": {},
   "source": [
    "### Table of contents\n",
    "- [Setup](#setup)\n",
    "- [Load the dataset](#load)\n",
    "- [Compare all features](#overview)\n",
    "- [Focus on features to compare](#compare)"
   ]
  },
  {
   "cell_type": "markdown",
   "metadata": {},
   "source": [
    "<a id=\"setup\"></a>\n",
    "## Setup\n",
    "\n",
    "First, we need to import a variety of plotting and scientific computing packages. We'll also make sure that plots happen inline and in high resolution.\n",
    "\n",
    "><b>Task</b>: Run the cell below."
   ]
  },
  {
   "cell_type": "code",
   "execution_count": null,
   "metadata": {},
   "outputs": [],
   "source": [
    "# Import plotting packages\n",
    "import matplotlib as mpl\n",
    "import matplotlib.pyplot as plt\n",
    "import seaborn as sns\n",
    "\n",
    "# Specify that all plots will happen inline & in high resolution\n",
    "%matplotlib inline  \n",
    "%config InlineBackend.figure_format = 'retina'\n",
    "\n",
    "# Import pandas and numpy for working with databases\n",
    "import pandas as pd\n",
    "import numpy as np\n",
    "\n",
    "print('Packages imported.')"
   ]
  },
  {
   "cell_type": "markdown",
   "metadata": {},
   "source": [
    "<a id=\"load\"></a>\n",
    "## Load the dataset\n",
    "><b>Task</b>: Choose to work with the mice or human dataset by uncommenting (removing the `#`) from one of the `dataset` lines below. Then, run the cell."
   ]
  },
  {
   "cell_type": "code",
   "execution_count": null,
   "metadata": {
    "scrolled": true
   },
   "outputs": [],
   "source": [
    "# Only one of the dataset lines below should be uncommented!\n",
    "dataset = pd.read_csv('utilities/mouse_cell_metrics.csv')\n",
    "#dataset = pd.read_csv('utilities/human_cell_metrics.csv')\n",
    "\n",
    "print('Number of cells: ' + str(len(dataset)))\n",
    "\n",
    "# Show the first five rows of the dataset\n",
    "dataset.head()"
   ]
  },
  {
   "cell_type": "markdown",
   "metadata": {},
   "source": [
    "<a id=\"overview\"></a>\n",
    "## Compare all of the features in this dataset\n",
    "\n",
    "As you can see in the first five rows of the dataset above, this dataset contains observations about the following features:\n",
    "- (estimated) cell surface area (in µm^2)\n",
    "- dendrite type (spiny, aspiny, or sparsely spiny)\n",
    "- rheobase (in nA)\n",
    "- input resistance (in MOhms)\n",
    "- tau (in ms)\n",
    "\n",
    "Each row of the dataset contains all of these features for individual cells.\n",
    "\n",
    "Below, we'll use a really handy tool from Seaborn called [pairplot](https://seaborn.pydata.org/generated/seaborn.pairplot.html) which will plot a grid of all of these cell features against eachother. It will also show us a histogram of values for each of the features -- an important first step of working with any data.\n",
    "\n",
    "><b>Task</b>: Run the cell below! It may take a few seconds to run. You can uncomment the line that says <code>set(xscale='log')</code> if you'd like to see what this looks like on a log scale."
   ]
  },
  {
   "cell_type": "code",
   "execution_count": null,
   "metadata": {
    "scrolled": false
   },
   "outputs": [],
   "source": [
    "pairplot = sns.pairplot(dataset,height=2)\n",
    "#pairplot.set(xscale='log',yscale='log') # this changes both x and y scale to log\n",
    "plt.show()"
   ]
  },
  {
   "cell_type": "markdown",
   "metadata": {},
   "source": [
    "### Site note: What does log-scaling mean?\n",
    "\n",
    "The four-by-four figure that is produced above shows many potentially interesting relationships between these cell features! The relationship between features is even more clear when we plot the axes on a log-scale. Why is this?\n",
    "\n",
    "To understand why this is, let's develop our intuition for what log-scaling even means. First, we'll create a list of 10 numbers, from 1 to 10, evenly spaced by one."
   ]
  },
  {
   "cell_type": "code",
   "execution_count": null,
   "metadata": {
    "scrolled": true
   },
   "outputs": [],
   "source": [
    "x = np.arange(1,11,1) # Use np.arange() to create a simple list\n",
    "print(x)"
   ]
  },
  {
   "cell_type": "markdown",
   "metadata": {},
   "source": [
    "><b>Task</b>: Use this list <code>x</code> to create <code>y</code> which is composed of 2^ each value in <code>x</code>. You can write this as `2**x`. In other words, we're making a list of exponentially increasing values. In other, other words, the values increase by an *order of magnitude*. Print your list of y values so that you can see what you've created."
   ]
  },
  {
   "cell_type": "code",
   "execution_count": null,
   "metadata": {},
   "outputs": [],
   "source": [
    "y = ..."
   ]
  },
  {
   "cell_type": "markdown",
   "metadata": {},
   "source": [
    "><b>Task</b>: Plot these vectors we just created using <code>plt.plot(x,y,marker='.')</code> in the cell below. Don't forget to add <code>plt.show()</code> to cleanly show just the plot.\n"
   ]
  },
  {
   "cell_type": "code",
   "execution_count": null,
   "metadata": {},
   "outputs": [],
   "source": [
    "# Add your plot here!\n"
   ]
  },
  {
   "cell_type": "markdown",
   "metadata": {},
   "source": [
    "So, this is what our artificial data looks like when the data is plotted on a linear scale (1-10). What happens when we plot the data on a log scale, where each equally spaced tick mark actually increases by a factor of 10?\n",
    "\n",
    "><b>Task</b>: Since our y-scale is the one that rises exponentially, let's add <code>plt.yscale('log')</code> <i>before</i> <code>plt.show()</code> in the code block above so that the y-axis will be plotted on a log-scale. <b>How does this change the relationship between the variables in your plot?</b>\n",
    "\n",
    "For sets of data that change by orders of magnitude, log-scaled axes can help us more clearly see relationships between variables. For an in depth explanation of log scales, see this [Khan Academy Video](https://www.khanacademy.org/math/algebra-home/alg-exp-and-log/alg-logarithmic-scale/v/logarithmic-scale). For a consideration of *when* you should use log scales, see [this article](https://www.forbes.com/sites/naomirobbins/2012/01/19/when-should-i-use-logarithmic-scales-in-my-charts-and-graphs/#52b49d675e67)."
   ]
  },
  {
   "cell_type": "markdown",
   "metadata": {},
   "source": [
    "<a id=\"focus\"></a>\n",
    "## Focus on features to compare\n",
    "Back to the real data and our cell features! \n",
    "\n",
    "The pairplot above gives a great overview, but you may want to focus in on one of these interesting comparisons. In fact, chances are you have an <i>a priori</i> hypothesis about the relationship between two of these features, based on what we've talked about in class.\n",
    "\n",
    "To easily generate a plot of two variables, we can use [matplotlib's scatterplot function](https://matplotlib.org/api/_as_gen/matplotlib.pyplot.scatter.html). We're going to refer to each of the columns in the Pandas dataframe using the syntax `dataframe['COLUMN']`.\n",
    "\n",
    "><b>Task</b>: Create a plot of <b>two</b> different metrics above by substituting FEATURE for the <i>exact</i> name of the column in the data. The spelling needs to be exact in order for it to work -- <code>cell_surface_features</code> is not the same thing as <code>cell surface features</code>. For some of these comparisons, it may be most useful to plot the comparisons on a log scale."
   ]
  },
  {
   "cell_type": "code",
   "execution_count": null,
   "metadata": {},
   "outputs": [],
   "source": [
    "# We've set up a square figure for you!\n",
    "fig = plt.figure(figsize=(5,5))\n",
    "\n",
    "# Replace FEATURE with your feature of interest\n",
    "plt.scatter(dataset['FEATURE'],dataset['FEATURE'])\n",
    "\n",
    "plt.show()"
   ]
  },
  {
   "cell_type": "markdown",
   "metadata": {},
   "source": [
    "><b>Task</b>: Right click on your figure to save it as \"cell_features_comparison.png\". Make sure your graph has clearly labeled axes with units."
   ]
  },
  {
   "cell_type": "code",
   "execution_count": null,
   "metadata": {},
   "outputs": [],
   "source": [
    "from IPython.display import HTML\n",
    "HTML('<img src=\"https://media.giphy.com/media/l0MYt5jPR6QX5pnqM/giphy.gif\">')"
   ]
  }
 ],
 "metadata": {
  "kernelspec": {
   "display_name": "Python 3",
   "language": "python",
   "name": "python3"
  },
  "language_info": {
   "codemirror_mode": {
    "name": "ipython",
    "version": 3
   },
   "file_extension": ".py",
   "mimetype": "text/x-python",
   "name": "python",
   "nbconvert_exporter": "python",
   "pygments_lexer": "ipython3",
   "version": "3.7.3"
  }
 },
 "nbformat": 4,
 "nbformat_minor": 2
}
